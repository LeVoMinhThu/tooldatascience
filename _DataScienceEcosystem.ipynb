{
  "cells": [
    {
      "cell_type": "markdown",
      "metadata": {
        "tags": []
      },
      "source": [
        "# Data Science Tools and Ecosystem"
      ]
    },
    {
      "cell_type": "markdown",
      "metadata": {},
      "source": [
        "## Author \n",
        "Thư Lê"
      ]
    },
    {
      "cell_type": "markdown",
      "metadata": {},
      "source": [
        "In this notebook, Data Science Tools and Ecosystem are summarized."
      ]
    },
    {
      "cell_type": "markdown",
      "metadata": {},
      "source": [
        "**Objectives:**\n",
        "- Describe the relevant features of open-source tools.\n",
        "- List examples of commercial and cloud-based data science tools.\n",
        "- Describe the components of a Data Scientist's toolkit and list various tool categories.\n"
      ]
    },
    {
      "cell_type": "markdown",
      "metadata": {},
      "source": [
        "Some of the popular languages that Data Scientists use are:\n",
        "1. Python.  \n",
        "2. R. \n",
        "3. SQL. "
      ]
    },
    {
      "cell_type": "markdown",
      "metadata": {},
      "source": [
        "Some of the commonly used libraries used by Data Scientists include:\n",
        "1. NumPy.\n",
        "2. Sci-Kit.\n",
        "3. Matplotlib. "
      ]
    },
    {
      "cell_type": "markdown",
      "metadata": {},
      "source": [
        "|Data Science Tools| \n",
        "|------------------|\n",
        "| RStudio|\n",
        "| Apache Spark|\n",
        "|TensorFlow|"
      ]
    },
    {
      "cell_type": "markdown",
      "metadata": {},
      "source": [
        "### Below are a few examples of evaluating arithmetic expressions in Pytho"
      ]
    },
    {
      "cell_type": "code",
      "execution_count": 5,
      "metadata": {
        "trusted": true
      },
      "outputs": [],
      "source": [
        "# This a simple arithmetic expression to mutiply then add integers"
      ]
    },
    {
      "cell_type": "code",
      "execution_count": 6,
      "metadata": {
        "trusted": true
      },
      "outputs": [
        {
          "data": {
            "text/plain": [
              "17"
            ]
          },
          "execution_count": 6,
          "metadata": {},
          "output_type": "execute_result"
        }
      ],
      "source": [
        "(3*4)+5"
      ]
    },
    {
      "cell_type": "code",
      "execution_count": 7,
      "metadata": {
        "trusted": true
      },
      "outputs": [],
      "source": [
        "# This will convert 200 minutes to hours by diving by 60"
      ]
    },
    {
      "cell_type": "code",
      "execution_count": 8,
      "metadata": {
        "trusted": true
      },
      "outputs": [
        {
          "name": "stdout",
          "output_type": "stream",
          "text": [
            "200 minutes is equal to 3 hours and 20 minutes.\n"
          ]
        }
      ],
      "source": [
        "def convert_minutes_to_hours(minutes):\n",
        "    hours = minutes // 60\n",
        "    minutes = minutes % 60\n",
        "    return hours, minutes\n",
        "\n",
        "# Example usage\n",
        "minutes = 200\n",
        "converted_hours, remaining_minutes = convert_minutes_to_hours(minutes)\n",
        "print(f\"{minutes} minutes is equal to {converted_hours} hours and {remaining_minutes} minutes.\")"
      ]
    }
  ],
  "metadata": {
    "kernelspec": {
      "display_name": "Python (Pyodide)",
      "language": "python",
      "name": "python"
    },
    "language_info": {
      "codemirror_mode": {
        "name": "python",
        "version": 3
      },
      "file_extension": ".py",
      "mimetype": "text/x-python",
      "name": "python",
      "nbconvert_exporter": "python",
      "pygments_lexer": "ipython3",
      "version": "3.8"
    }
  },
  "nbformat": 4,
  "nbformat_minor": 4
}
